{
 "cells": [
  {
   "cell_type": "code",
   "id": "initial_id",
   "metadata": {
    "collapsed": true,
    "ExecuteTime": {
     "end_time": "2025-08-21T21:12:54.517043Z",
     "start_time": "2025-08-21T21:12:49.920196Z"
    }
   },
   "source": [
    "import h5py\n",
    "import numpy as np\n",
    "import matplotlib.pyplot as plt\n",
    "import random\n",
    "\n",
    "INPUT_FILE = \"transients_S01_all.h5\"\n",
    "PROCESSED_FILE = \"processed_data.npz\"\n",
    "\n",
    "proc = np.load(PROCESSED_FILE, allow_pickle=True)\n",
    "normal_proc = proc[\"normal\"]\n",
    "relay_proc = proc[\"relay\"]\n",
    "\n",
    "def collect_data(h5file, category):\n",
    "    paths, arrays = [], []\n",
    "    for i in range(1, 11):\n",
    "        group_path = f\"/transients/S01/{i}/{category}/q_data\"\n",
    "        if group_path in h5file:\n",
    "            for key in h5file[group_path]:\n",
    "                arr = np.array(h5file[f\"{group_path}/{key}\"])\n",
    "                paths.append(f\"{group_path}/{key}\")\n",
    "                arrays.append(arr)\n",
    "    return paths, arrays\n",
    "\n",
    "with h5py.File(INPUT_FILE, \"r\") as f:\n",
    "    normal_paths, normal_raw = collect_data(f, \"Normal\")\n",
    "    relay_paths, relay_raw = collect_data(f, \"Relay\")\n",
    "\n",
    "print(f\"Normal Original: {len(normal_raw)}, Verarbeitet: {len(normal_proc)}\")\n",
    "print(f\"Relay Original: {len(relay_raw)}, Verarbeitet: {len(relay_proc)}\")\n",
    "\n",
    "def compare_example(raw_arr, proc_arr, path, idx):\n",
    "    equal = np.allclose(raw_arr, proc_arr[:len(raw_arr)])\n",
    "    print(f\"Vergleich {path} -> processed[{idx}] | Identisch? {equal}\")\n",
    "\n",
    "    if not equal:\n",
    "        plt.figure(figsize=(10,4))\n",
    "        plt.plot(raw_arr, label=\"Original\", alpha=0.8)\n",
    "        plt.plot(proc_arr, label=\"Processed\", alpha=0.8)\n",
    "        plt.title(f\"Vergleich: {path}\")\n",
    "        plt.legend()\n",
    "        plt.show()\n",
    "\n",
    "n_checks = 5\n",
    "for idx in random.sample(range(len(normal_raw)), n_checks):\n",
    "    compare_example(normal_raw[idx], normal_proc[idx], normal_paths[idx], idx)\n",
    "\n",
    "for idx in random.sample(range(len(relay_raw)), n_checks):\n",
    "    compare_example(relay_raw[idx], relay_proc[idx], relay_paths[idx], idx)\n"
   ],
   "outputs": [
    {
     "name": "stdout",
     "output_type": "stream",
     "text": [
      "Normal Original: 50000, Verarbeitet: 50000\n",
      "Relay Original: 50000, Verarbeitet: 50000\n",
      "Vergleich /transients/S01/8/Normal/q_data/782 -> processed[39759] | Identisch? True\n",
      "Vergleich /transients/S01/5/Normal/q_data/2010 -> processed[21126] | Identisch? True\n",
      "Vergleich /transients/S01/9/Normal/q_data/4684 -> processed[44095] | Identisch? True\n",
      "Vergleich /transients/S01/10/Normal/q_data/439 -> processed[48768] | Identisch? True\n",
      "Vergleich /transients/S01/7/Normal/q_data/4666 -> processed[34075] | Identisch? True\n",
      "Vergleich /transients/S01/3/Relay/q_data/432 -> processed[13691] | Identisch? True\n",
      "Vergleich /transients/S01/8/Relay/q_data/3127 -> processed[37366] | Identisch? True\n",
      "Vergleich /transients/S01/8/Relay/q_data/3139 -> processed[37379] | Identisch? True\n",
      "Vergleich /transients/S01/6/Relay/q_data/2495 -> processed[26663] | Identisch? True\n",
      "Vergleich /transients/S01/4/Relay/q_data/318 -> processed[17424] | Identisch? True\n"
     ]
    }
   ],
   "execution_count": 1
  },
  {
   "metadata": {
    "ExecuteTime": {
     "end_time": "2025-08-23T17:29:14.726921Z",
     "start_time": "2025-08-23T17:29:14.626772Z"
    }
   },
   "cell_type": "code",
   "source": [
    "import numpy as np\n",
    "\n",
    "data_transients = np.load(\"transients_processed.npz\", allow_pickle=True)\n",
    "normal_transients = data_transients[\"normal\"]\n",
    "relay_transients = data_transients[\"relay\"]\n",
    "print(len(normal_transients))\n",
    "print(len(relay_transients))\n",
    "\n",
    "data_features = np.load(\"features_processed.npz\", allow_pickle=True)\n",
    "normal_features = data_features[\"normal\"]\n",
    "relay_features = data_features[\"relay\"]\n",
    "print(len(normal_features))\n",
    "print(len(relay_features))\n",
    "\n",
    "data_combined = np.load(\"combined_processed.npz\", allow_pickle=True)\n",
    "normal_combined = data_combined[\"normal\"]\n",
    "relay_combined = data_combined[\"relay\"]\n",
    "print(len(normal_combined))\n",
    "print(len(relay_combined))\n",
    "\n",
    "data_fouriers = np.load(\"fouriers_processed.npz\", allow_pickle=True)\n",
    "normal_fouriers = data_fouriers[\"normal\"]\n",
    "relay_fouriers = data_fouriers[\"relay\"]\n",
    "print(len(normal_fouriers))\n",
    "print(len(relay_fouriers))"
   ],
   "id": "3dd3b187756cc871",
   "outputs": [
    {
     "name": "stdout",
     "output_type": "stream",
     "text": [
      "50000\n",
      "50000\n",
      "50000\n",
      "50000\n",
      "50000\n",
      "50000\n",
      "50000\n",
      "50000\n"
     ]
    }
   ],
   "execution_count": 7
  }
 ],
 "metadata": {
  "kernelspec": {
   "display_name": "Python 3",
   "language": "python",
   "name": "python3"
  },
  "language_info": {
   "codemirror_mode": {
    "name": "ipython",
    "version": 2
   },
   "file_extension": ".py",
   "mimetype": "text/x-python",
   "name": "python",
   "nbconvert_exporter": "python",
   "pygments_lexer": "ipython2",
   "version": "2.7.6"
  }
 },
 "nbformat": 4,
 "nbformat_minor": 5
}
